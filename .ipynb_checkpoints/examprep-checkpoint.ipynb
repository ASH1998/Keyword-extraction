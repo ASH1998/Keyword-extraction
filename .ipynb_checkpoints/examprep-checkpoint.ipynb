{
 "cells": [
  {
   "cell_type": "markdown",
   "metadata": {},
   "source": [
    "## Import"
   ]
  },
  {
   "cell_type": "code",
   "execution_count": 1,
   "metadata": {
    "colab": {
     "autoexec": {
      "startup": false,
      "wait_interval": 0
     }
    },
    "colab_type": "code",
    "collapsed": true,
    "id": "_wSayskgSHGE"
   },
   "outputs": [],
   "source": [
    "import PyPDF2 #read the pdf\n",
    "\n",
    "import matplotlib.pyplot as plt\n",
    "\n",
    "import pandas as pdd\n",
    "\n",
    "from sklearn.feature_extraction.text import TfidfVectorizer, CountVectorizer\n",
    "from sklearn.datasets import fetch_20newsgroups\n",
    "from sklearn.decomposition import NMF, LatentDirichletAllocation"
   ]
  },
  {
   "cell_type": "markdown",
   "metadata": {},
   "source": [
    "## Getting the data"
   ]
  },
  {
   "cell_type": "code",
   "execution_count": 2,
   "metadata": {
    "colab": {
     "autoexec": {
      "startup": false,
      "wait_interval": 0
     }
    },
    "colab_type": "code",
    "collapsed": true,
    "id": "fsf6WPZVTtlw"
   },
   "outputs": [],
   "source": [
    "file = open('JavaBasics-notes.pdf', 'rb')\n",
    "fileReader = PyPDF2.PdfFileReader(file)\n",
    "\n",
    "total = fileReader.numPages"
   ]
  },
  {
   "cell_type": "markdown",
   "metadata": {},
   "source": [
    "#### Getting the function for feature name"
   ]
  },
  {
   "cell_type": "code",
   "execution_count": 3,
   "metadata": {
    "colab": {
     "autoexec": {
      "startup": false,
      "wait_interval": 0
     }
    },
    "colab_type": "code",
    "collapsed": true,
    "id": "_hSAFGsKZA_j"
   },
   "outputs": [],
   "source": [
    "def get_topics(model, feature_names, no_top_words):\n",
    "    all_ = []\n",
    "    for topic_idx, topic in enumerate(model.components_):\n",
    "        #print (\"Topic %d:\" % (topic_idx))\n",
    "        x = \" \".join([feature_names[i]\n",
    "                        for i in topic.argsort()[:-no_top_words - 1:-1]])\n",
    "        all_.append(str(x))\n",
    "    return all_\n"
   ]
  },
  {
   "cell_type": "code",
   "execution_count": 4,
   "metadata": {
    "colab": {
     "autoexec": {
      "startup": false,
      "wait_interval": 0
     }
    },
    "colab_type": "code",
    "collapsed": true,
    "id": "kf6tbbGAahdv"
   },
   "outputs": [],
   "source": [
    "tra = []\n",
    "for i in range(total):\n",
    "  pg = fileReader.getPage(i)\n",
    "  tra.append(pg.extractText())"
   ]
  },
  {
   "cell_type": "markdown",
   "metadata": {},
   "source": [
    "### Algorithms:\n",
    " NMF :Non-negative Matrix factorization      \n",
    " LDA : Latent Derilicht Analysis"
   ]
  },
  {
   "cell_type": "code",
   "execution_count": 5,
   "metadata": {
    "colab": {
     "autoexec": {
      "startup": false,
      "wait_interval": 0
     },
     "base_uri": "https://localhost:8080/",
     "height": 34
    },
    "colab_type": "code",
    "collapsed": false,
    "executionInfo": {
     "elapsed": 1210,
     "status": "ok",
     "timestamp": 1528633892831,
     "user": {
      "displayName": "Ashutosh Mishra",
      "photoUrl": "//lh5.googleusercontent.com/-flRvctClubY/AAAAAAAAAAI/AAAAAAAAADE/yH7fXuNfy3c/s50-c-k-no/photo.jpg",
      "userId": "115571466824821105632"
     },
     "user_tz": -330
    },
    "id": "ZN1QnVzMZA8T",
    "outputId": "ca832af3-d3b4-4084-ac19-2efaf3a9ff88"
   },
   "outputs": [
    {
     "name": "stderr",
     "output_type": "stream",
     "text": [
      "FutureWarning: Conversion of the second argument of issubdtype from `float` to `np.floating` is deprecated. In future, it will be treated as `np.float64 == np.dtype(float).type`. [text.py:1059]\n"
     ]
    }
   ],
   "source": [
    "documents = tra\n",
    "\n",
    "# NMF is able to use tf-idf\n",
    "tfidf_vectorizer = TfidfVectorizer(max_df=0.95, min_df=2, stop_words='english')\n",
    "tfidf = tfidf_vectorizer.fit_transform(documents)\n",
    "tfidf_feature_names = tfidf_vectorizer.get_feature_names()\n",
    "\n",
    "idf = tfidf_vectorizer.idf_\n",
    "x = dict(zip(tfidf_vectorizer.get_feature_names(), idf))\n",
    "\n",
    "# LDA can only use raw term counts for LDA because it is a probabilistic graphical model\n",
    "tf_vectorizer = CountVectorizer(max_df=0.95, min_df=2, stop_words='english')\n",
    "tf = tf_vectorizer.fit_transform(documents)\n",
    "tf_feature_names = tf_vectorizer.get_feature_names()\n",
    "\n",
    "no_topics = len(tra)\n",
    "\n",
    "# Run NMF\n",
    "nmf = NMF(n_components=no_topics, random_state=1, alpha=.1, l1_ratio=.5, init='nndsvd').fit(tfidf)\n",
    "\n",
    "# Run LDA\n",
    "lda = LatentDirichletAllocation(n_topics=no_topics, max_iter=5, learning_method='online', learning_offset=50.,random_state=0).fit(tf)\n",
    "\n"
   ]
  },
  {
   "cell_type": "code",
   "execution_count": 6,
   "metadata": {
    "colab": {
     "autoexec": {
      "startup": false,
      "wait_interval": 0
     }
    },
    "colab_type": "code",
    "collapsed": true,
    "id": "UtlAq14VZA5W"
   },
   "outputs": [],
   "source": [
    "no_top_words = 10 #words for each page"
   ]
  },
  {
   "cell_type": "code",
   "execution_count": 7,
   "metadata": {
    "colab": {
     "autoexec": {
      "startup": false,
      "wait_interval": 0
     }
    },
    "colab_type": "code",
    "collapsed": true,
    "id": "1QnrbyxGa260"
   },
   "outputs": [],
   "source": [
    "all_ = get_topics(nmf, tfidf_feature_names, no_top_words)#nmf"
   ]
  },
  {
   "cell_type": "code",
   "execution_count": 8,
   "metadata": {
    "colab": {
     "autoexec": {
      "startup": false,
      "wait_interval": 0
     }
    },
    "colab_type": "code",
    "collapsed": true,
    "id": "axYFggM_a23Q"
   },
   "outputs": [],
   "source": [
    "all_2 = get_topics(lda, tf_feature_names, no_top_words)#lda"
   ]
  },
  {
   "cell_type": "markdown",
   "metadata": {},
   "source": [
    "### Getting weights"
   ]
  },
  {
   "cell_type": "code",
   "execution_count": 9,
   "metadata": {
    "colab": {
     "autoexec": {
      "startup": false,
      "wait_interval": 0
     }
    },
    "colab_type": "code",
    "collapsed": false,
    "id": "LDokQQ4Ya2zU"
   },
   "outputs": [],
   "source": [
    "weights = {}\n",
    "weights_2 = {}\n",
    "for i in range(len(all_)):\n",
    "  rest = all_[i].split(' ')\n",
    "  rest2 = all_2[i].split(' ')\n",
    "  for j in rest:\n",
    "    if j in x:\n",
    "      weights[str(j)] = x[str(j)]\n",
    "  for k in rest2:\n",
    "    if k in x:\n",
    "      weights_2[str(k)] = x[str(k)]\n",
    "        "
   ]
  },
  {
   "cell_type": "markdown",
   "metadata": {},
   "source": [
    "### Making dataframe"
   ]
  },
  {
   "cell_type": "code",
   "execution_count": 10,
   "metadata": {
    "colab": {
     "autoexec": {
      "startup": false,
      "wait_interval": 0
     },
     "base_uri": "https://localhost:8080/",
     "height": 408
    },
    "colab_type": "code",
    "collapsed": false,
    "executionInfo": {
     "elapsed": 1323,
     "status": "ok",
     "timestamp": 1528634244091,
     "user": {
      "displayName": "Ashutosh Mishra",
      "photoUrl": "//lh5.googleusercontent.com/-flRvctClubY/AAAAAAAAAAI/AAAAAAAAADE/yH7fXuNfy3c/s50-c-k-no/photo.jpg",
      "userId": "115571466824821105632"
     },
     "user_tz": -330
    },
    "id": "rnrSEUiGqzi5",
    "outputId": "a724c0a9-3c9b-43e0-beda-478a2a62ca48"
   },
   "outputs": [],
   "source": [
    "df1 = pdd.DataFrame(list(weights.items()), columns=['topic', 'weights'])"
   ]
  },
  {
   "cell_type": "code",
   "execution_count": 11,
   "metadata": {
    "colab": {
     "autoexec": {
      "startup": false,
      "wait_interval": 0
     }
    },
    "colab_type": "code",
    "collapsed": false,
    "id": "6qPil2Xfskqo",
    "scrolled": false
   },
   "outputs": [],
   "source": [
    "df2 = pdd.DataFrame(list(weights_2.items()), columns=['topic', 'weights'])"
   ]
  },
  {
   "cell_type": "code",
   "execution_count": 12,
   "metadata": {
    "collapsed": false
   },
   "outputs": [
    {
     "name": "stdout",
     "output_type": "stream",
     "text": [
      "            topic   weights\n",
      "0           false  3.079442\n",
      "1         pointer  2.791759\n",
      "2     compilation  3.079442\n",
      "3            init  2.386294\n",
      "4        features  3.079442\n",
      "5        existing  3.079442\n",
      "6          called  2.791759\n",
      "7        instance  2.791759\n",
      "8        language  1.875469\n",
      "9      basicsjava  1.693147\n",
      "10         robust  3.079442\n",
      "11        extends  3.079442\n",
      "12         simple  2.791759\n",
      "13       graphics  3.079442\n",
      "14        defines  3.079442\n",
      "15        applets  2.568616\n",
      "16           make  2.568616\n",
      "17        library  3.079442\n",
      "18            www  2.791759\n",
      "19            set  3.079442\n",
      "20         placed  3.079442\n",
      "21        garbage  2.232144\n",
      "22         inthis  3.079442\n",
      "23         passed  3.079442\n",
      "24         arrays  3.079442\n",
      "25        boolean  2.568616\n",
      "26            new  1.693147\n",
      "27        package  3.079442\n",
      "28        element  2.791759\n",
      "29           data  2.098612\n",
      "..            ...       ...\n",
      "96          added  3.079442\n",
      "97          array  1.980829\n",
      "98     statements  2.791759\n",
      "99            foo  3.079442\n",
      "100         width  3.079442\n",
      "101       literal  3.079442\n",
      "102  applications  2.791759\n",
      "103          note  2.568616\n",
      "104      constant  3.079442\n",
      "105         types  2.232144\n",
      "106         start  3.079442\n",
      "107      consider  3.079442\n",
      "108        secure  3.079442\n",
      "109          loop  3.079442\n",
      "110       println  2.791759\n",
      "111       objects  1.693147\n",
      "112            34  3.079442\n",
      "113          stop  3.079442\n",
      "114        button  2.568616\n",
      "115       machine  3.079442\n",
      "116            ok  2.791759\n",
      "117      portable  3.079442\n",
      "118       runtime  2.386294\n",
      "119        static  3.079442\n",
      "120        calloc  2.568616\n",
      "121       example  1.613104\n",
      "122     reference  2.386294\n",
      "123            p2  3.079442\n",
      "124     primitive  2.098612\n",
      "125     following  2.098612\n",
      "\n",
      "[126 rows x 2 columns]\n"
     ]
    }
   ],
   "source": [
    "print(df1)"
   ]
  },
  {
   "cell_type": "code",
   "execution_count": 13,
   "metadata": {
    "collapsed": false
   },
   "outputs": [
    {
     "name": "stdout",
     "output_type": "stream",
     "text": [
      "            topic   weights\n",
      "0      basicsjava  1.693147\n",
      "1            init  2.386294\n",
      "2         contain  3.079442\n",
      "3        features  3.079442\n",
      "4          called  2.791759\n",
      "5        instance  2.791759\n",
      "6        language  1.875469\n",
      "7     initialized  3.079442\n",
      "8            note  2.568616\n",
      "9         written  3.079442\n",
      "10        defines  3.079442\n",
      "11       typename  2.791759\n",
      "12           make  2.568616\n",
      "13        suspend  3.079442\n",
      "14           code  1.693147\n",
      "15       platform  3.079442\n",
      "16         easily  2.791759\n",
      "17   variablename  3.079442\n",
      "18          using  2.386294\n",
      "19         passed  3.079442\n",
      "20        section  3.079442\n",
      "21         arrays  3.079442\n",
      "22        boolean  2.568616\n",
      "23           just  3.079442\n",
      "24     references  2.791759\n",
      "25            web  3.079442\n",
      "26       consider  3.079442\n",
      "27           used  2.568616\n",
      "28           data  2.098612\n",
      "29            new  1.693147\n",
      "..            ...       ...\n",
      "101        secure  3.079442\n",
      "102        prints  3.079442\n",
      "103           foo  3.079442\n",
      "104          like  2.791759\n",
      "105       literal  3.079442\n",
      "106          wide  3.079442\n",
      "107     variables  2.568616\n",
      "108      constant  3.079442\n",
      "109        applet  2.568616\n",
      "110        reside  2.791759\n",
      "111       element  2.791759\n",
      "112         array  1.980829\n",
      "113          loop  3.079442\n",
      "114        public  2.098612\n",
      "115         final  3.079442\n",
      "116          stop  3.079442\n",
      "117       similar  2.386294\n",
      "118        button  2.568616\n",
      "119       machine  3.079442\n",
      "120            ok  2.791759\n",
      "121     primitive  2.098612\n",
      "122       runtime  2.386294\n",
      "123      allocate  2.386294\n",
      "124    parameters  3.079442\n",
      "125       example  1.613104\n",
      "126     reference  2.386294\n",
      "127         paint  3.079442\n",
      "128            p2  3.079442\n",
      "129       garbage  2.232144\n",
      "130     following  2.098612\n",
      "\n",
      "[131 rows x 2 columns]\n"
     ]
    }
   ],
   "source": [
    "print(df2)"
   ]
  },
  {
   "cell_type": "code",
   "execution_count": 14,
   "metadata": {
    "collapsed": false
   },
   "outputs": [
    {
     "name": "stdout",
     "output_type": "stream",
     "text": [
      "NMF\n",
      "page =  0 keywords :  button new ok init allocate sizeof calloc objects null create\n",
      "page =  1 keywords :  method applet main args browser class called file inthis static\n",
      "page =  2 keywords :  machine platform library code byte applets program arithmetic pointer portable\n",
      "page =  3 keywords :  data new stack public int code true consider return types\n",
      "page =  4 keywords :  literal constant int 14 default package unicode false expressions note\n",
      "page =  5 keywords :  args method new operator note set expr added constructor class\n",
      "page =  6 keywords :  basicsjava www garbage following final file features false extends expressions\n",
      "page =  7 keywords :  left example final file features false extends expressions expr existing\n",
      "page =  8 keywords :  expr boolean passed int loop const statements objects reference types\n",
      "page =  9 keywords :  www example final file features false extends expressions expr existing\n",
      "page =  10 keywords :  comments p2 code does use output getparameter prints width placed\n",
      "page =  11 keywords :  www example final file features false extends expressions expr existing\n",
      "page =  12 keywords :  garbage memory new collection automatic collector codevoid instance executed reference\n",
      "page =  13 keywords :  types primitive defines simple button object reference refer following array\n",
      "page =  14 keywords :  string literal arrays use compiler elements pointers objects int memory\n",
      "page =  15 keywords :  arrays final static element const array version equivalent new runtime\n",
      "page =  16 keywords :  programs portable language executed applications applets library platform secure robust\n",
      "page =  17 keywords :  applet parameters width value getparameter p2 test appletviewer definitions println\n",
      "page =  18 keywords :  return button 34 foo false exception passed null int value\n",
      "page =  19 keywords :  applications file following compilation existing containing dynamically programs source class\n",
      "page =  20 keywords :  applet public void threads methods graphics stop import animations start\n",
      "page =  21 keywords :  array make allocate int element code does new elements object\n",
      "page =  22 keywords :  www example final file features false extends expressions expr existing\n"
     ]
    }
   ],
   "source": [
    "print('NMF')\n",
    "for i in range(len(all_)):\n",
    "    print('page = ', i, 'keywords : ' , all_[i])"
   ]
  },
  {
   "cell_type": "code",
   "execution_count": 15,
   "metadata": {
    "collapsed": false
   },
   "outputs": [
    {
     "name": "stdout",
     "output_type": "stream",
     "text": [
      "LDA\n",
      "page =  0 keywords :  array int element new arrays allocate code static final basicsjava\n",
      "page =  1 keywords :  garbage new memory collection instance codevoid collector following int automatic\n",
      "page =  2 keywords :  data new return int public language object code button programs\n",
      "page =  3 keywords :  string left use objects type compiler look section elements element\n",
      "page =  4 keywords :  new data method code language class program args operator machine\n",
      "page =  5 keywords :  prints wide executed init secure test hi create contain sockets\n",
      "page =  6 keywords :  instantiated parameters reference suspend statements basicsjava animations false references sockets\n",
      "page =  7 keywords :  basicsjava consider constructor automatic executed literal value variable left platform\n",
      "page =  8 keywords :  expr boolean int passed objects loop statements reference method primitive\n",
      "page =  9 keywords :  button new string applet array objects object int code ok\n",
      "page =  10 keywords :  appletviewer static test window codevoid refer look output applications types\n",
      "page =  11 keywords :  comments code use does p2 class contain getparameter make public\n",
      "page =  12 keywords :  types primitive following object reference defines boolean typename variables language\n",
      "page =  13 keywords :  return portable paint written class button object foo ok automatic\n",
      "page =  14 keywords :  program using checking consider stop ok look exception element www\n",
      "page =  15 keywords :  like memory second features platform foo object comments comparison defines\n",
      "page =  16 keywords :  paint byte runtime sizeof reside stack version 10 references trivialapplet\n",
      "page =  17 keywords :  applet class public method applications void file browser code called\n",
      "page =  18 keywords :  method applet main predefined animations args browser file used methods\n",
      "page =  19 keywords :  true secure default example www web create portable just similar\n",
      "page =  20 keywords :  automatic stop contrast shows allocates initialized instead www note secure\n",
      "page =  21 keywords :  constant literal int default false similar string 14 unicode note\n",
      "page =  22 keywords :  comments objects use portable defines variablename easily false code elements\n"
     ]
    }
   ],
   "source": [
    "print('LDA')\n",
    "for i in range(len(all_2)):\n",
    "    print('page = ', i , 'keywords : ', all_2[i])"
   ]
  },
  {
   "cell_type": "code",
   "execution_count": null,
   "metadata": {
    "collapsed": true
   },
   "outputs": [],
   "source": []
  }
 ],
 "metadata": {
  "anaconda-cloud": {},
  "colab": {
   "collapsed_sections": [],
   "default_view": {},
   "name": "examprep",
   "provenance": [],
   "version": "0.3.2",
   "views": {}
  },
  "kernelspec": {
   "display_name": "Python [conda root]",
   "language": "python",
   "name": "conda-root-py"
  },
  "language_info": {
   "codemirror_mode": {
    "name": "ipython",
    "version": 3
   },
   "file_extension": ".py",
   "mimetype": "text/x-python",
   "name": "python",
   "nbconvert_exporter": "python",
   "pygments_lexer": "ipython3",
   "version": "3.5.2"
  }
 },
 "nbformat": 4,
 "nbformat_minor": 0
}
